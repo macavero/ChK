{
 "cells": [
  {
   "cell_type": "code",
   "execution_count": 1,
   "id": "b1019a76",
   "metadata": {},
   "outputs": [],
   "source": [
    "import pandas as pd\n",
    "import numpy as np\n",
    "import matplotlib.pyplot as plt\n",
    "from matplotlib.colors import LinearSegmentedColormap\n",
    "import matplotlib.colors as mcolors\n",
    "from datetime import datetime\n",
    "from collections import Counter\n",
    "from matplotlib.patches import Patch\n",
    "from scipy.stats import ttest_ind\n",
    "from ChK.data_combined import *\n",
    "\n",
    "# import ipfx\n",
    "\n",
    "import os"
   ]
  },
  {
   "cell_type": "code",
   "execution_count": null,
   "id": "066ba7ac",
   "metadata": {},
   "outputs": [
    {
     "name": "stderr",
     "output_type": "stream",
     "text": [
      "c:\\Users\\maria.vergara\\Documents\\Programming\\ChK\\code\\ChK\\data_combined.py:25: UserWarning: This pattern is interpreted as a regular expression, and has match groups. To actually get the groups, use str.extract.\n",
      "  df_m = df_densities[~df_densities['cell'].str.contains(pattern_m, regex=True)].reset_index(drop=True)\n",
      "c:\\Users\\maria.vergara\\Documents\\Programming\\ChK\\code\\ChK\\data_combined.py:41: DtypeWarning: Columns (104,107,110,137,344,419,548,556,561,562,563,564,572,641,655,666) have mixed types. Specify dtype option on import or set low_memory=False.\n",
      "  df_human_ttypes = pd.read_csv(h_ttypes_path)\n",
      "c:\\Users\\maria.vergara\\Documents\\Programming\\ChK\\code\\ChK\\data_combined.py:75: DtypeWarning: Columns (28,33,34,35,36,39,94,112,122,124,134) have mixed types. Specify dtype option on import or set low_memory=False.\n",
      "  df_mouse_tt_WB = pd.read_csv(m_ttypes_path)\n",
      "c:\\Users\\maria.vergara\\Documents\\Programming\\ChK\\code\\ChK\\data_combined.py:104: DtypeWarning: Columns (65,74,101,104,107,110,284,338,353,374,401,404,522,525,529,534,535,536,537,595,613,618,623,635) have mixed types. Specify dtype option on import or set low_memory=False.\n",
      "  df_mouse_tt_VISp = pd.read_csv('../data/mouse_VISp_tax_rsc384.csv')\n",
      "c:\\Users\\maria.vergara\\Documents\\Programming\\ChK\\code\\ChK\\data_combined.py:122: PerformanceWarning: DataFrame is highly fragmented.  This is usually the result of calling `frame.insert` many times, which has poor performance.  Consider joining all columns at once using pd.concat(axis=1) instead. To get a de-fragmented frame, use `newframe = frame.copy()`\n",
      "  df_mouse_VISp['nonfast_tot_70_ratio'] = df_mouse_VISp['nonfast_70'] / df_mouse_VISp['tot_70']\n",
      "c:\\Users\\maria.vergara\\Documents\\Programming\\ChK\\code\\ChK\\data_combined.py:123: PerformanceWarning: DataFrame is highly fragmented.  This is usually the result of calling `frame.insert` many times, which has poor performance.  Consider joining all columns at once using pd.concat(axis=1) instead. To get a de-fragmented frame, use `newframe = frame.copy()`\n",
      "  df_mouse_VISp['fast_tot_70_ratio'] = df_mouse_VISp['fast_70'] / df_mouse_VISp['tot_70']\n"
     ]
    },
    {
     "name": "stdout",
     "output_type": "stream",
     "text": [
      "Data loaded and saved to local files.\n"
     ]
    }
   ],
   "source": [
    "# Not merged with metadata\n",
    "df_human, df_mouse_WB, df_mouse_VISp, df_m, df_H, df_QN = load_dataset(update=False, merge_metadata=False)"
   ]
  },
  {
   "cell_type": "code",
   "execution_count": 4,
   "id": "2281b6cf",
   "metadata": {},
   "outputs": [
    {
     "data": {
      "text/plain": [
       "0      0.811097\n",
       "1      0.666501\n",
       "2           NaN\n",
       "3           NaN\n",
       "4           NaN\n",
       "         ...   \n",
       "193    0.837076\n",
       "194         NaN\n",
       "195    0.922662\n",
       "196         NaN\n",
       "197    0.479496\n",
       "Name: nonfast_tot_70_ratio, Length: 198, dtype: float64"
      ]
     },
     "execution_count": 4,
     "metadata": {},
     "output_type": "execute_result"
    }
   ],
   "source": [
    "df_human['nonfast_tot_70_ratio']"
   ]
  }
 ],
 "metadata": {
  "kernelspec": {
   "display_name": "IVSCC",
   "language": "python",
   "name": "python3"
  },
  "language_info": {
   "codemirror_mode": {
    "name": "ipython",
    "version": 3
   },
   "file_extension": ".py",
   "mimetype": "text/x-python",
   "name": "python",
   "nbconvert_exporter": "python",
   "pygments_lexer": "ipython3",
   "version": "3.9.19"
  }
 },
 "nbformat": 4,
 "nbformat_minor": 5
}
