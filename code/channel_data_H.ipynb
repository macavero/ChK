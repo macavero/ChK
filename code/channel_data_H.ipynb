{
 "cells": [
  {
   "cell_type": "code",
   "execution_count": null,
   "metadata": {},
   "outputs": [],
   "source": [
    "import pandas as pd\n",
    "import numpy as np\n",
    "import matplotlib.pyplot as plt\n",
    "from matplotlib.colors import LinearSegmentedColormap\n",
    "import matplotlib.colors as mcolors\n",
    "from datetime import datetime\n",
    "import ipfx\n",
    "\n",
    "import os\n",
    "import pg8000\n",
    "\n",
    "from ipfx.dataset.create import create_ephys_data_set\n",
    "\n",
    "from ipfx.data_set_features import extract_data_set_features\n",
    "from ipfx.utilities import drop_failed_sweeps\n",
    "\n",
    "import seaborn as sns\n",
    "from ipfx.epochs import get_stim_epoch\n",
    "\n",
    "from ipfx.feature_extractor import (\n",
    "    SpikeFeatureExtractor, SpikeTrainFeatureExtractor\n",
    ")\n",
    "from ipfx.stimulus_protocol_analysis import RampAnalysis\n"
   ]
  },
  {
   "cell_type": "code",
   "execution_count": null,
   "metadata": {},
   "outputs": [],
   "source": [
    "densities_path = \"../data/channel_data_densities.xlsx\"\n",
    "df_densities = pd.read_excel(densities_path, sheet_name = 'peak_current_densities')"
   ]
  },
  {
   "cell_type": "code",
   "execution_count": null,
   "metadata": {},
   "outputs": [],
   "source": [
    "print(f\"Number of cells with channel rec: {df_densities.shape[0]}\")"
   ]
  },
  {
   "cell_type": "code",
   "execution_count": null,
   "metadata": {},
   "outputs": [],
   "source": [
    "# Counts by species\n",
    "\n",
    "# Human (sorting with Regex)\n",
    "pattern_H = r'^H[0-9]\\d'\n",
    "df_pattern_H = df_densities.copy()\n",
    "df_reg_H = df_pattern_H[df_pattern_H['cell'].str.contains(pattern_H, regex=True)]\n",
    "df_H= df_reg_H.reset_index(drop=True)\n",
    "\n",
    "# NHP (sorting with Regex)\n",
    "pattern_QN = r'^QN[0-9]\\d'\n",
    "df_pattern_QN = df_densities.copy()\n",
    "df_reg_QN = df_pattern_QN[df_pattern_QN['cell'].str.contains(pattern_QN, regex=True)]\n",
    "df_QN= df_reg_QN.reset_index(drop=True)\n",
    "\n",
    "#Mouse\n",
    "pattern_m = r'^(H[0-9]\\d|QN[0-9]\\d)' #exclude all human and NHP\n",
    "df_m = df_densities[~df_densities['cell'].str.contains(pattern_m, regex=True)].reset_index(drop=True)"
   ]
  },
  {
   "cell_type": "code",
   "execution_count": null,
   "metadata": {},
   "outputs": [],
   "source": [
    "df_m.head(3)"
   ]
  },
  {
   "cell_type": "code",
   "execution_count": null,
   "metadata": {},
   "outputs": [],
   "source": [
    "# Counts per species\n",
    "df_m.shape[0] + df_H.shape[0] + df_QN.shape[0] == df_densities.shape[0]\n",
    "df_m.shape[0], df_H.shape[0], df_QN.shape[0]"
   ]
  },
  {
   "cell_type": "markdown",
   "metadata": {},
   "source": [
    "## Merge with ttype datasets per species"
   ]
  },
  {
   "cell_type": "code",
   "execution_count": null,
   "metadata": {},
   "outputs": [],
   "source": [
    "try:\n",
    "    # Human - Use tree_subclass\tand tree_cluster for ttype\n",
    "    h_ttypes_path = '//allen/programs/celltypes/workgroups/rnaseqanalysis/shiny/patch_seq/star/human/human_patchseq_MTG_current/mapping.df.lastmap.csv'\n",
    "    df_human_ttypes = pd.read_csv(h_ttypes_path) \n",
    "    df_human_ttypes_reduced = df_human_ttypes[['cell_name_label', 'tree_subclass', 'tree_cluster', 'tree_class']]\n",
    "\n",
    "    df_human_ch_tt = pd.merge(left = df_H, left_on = 'cell',\n",
    "                right = df_human_ttypes_reduced, right_on = 'cell_name_label', how = 'inner')\n",
    "\n",
    "\n",
    "    # Merge with ephys data (query from LIMS)\n",
    "    df_hum_ephys = pd.read_csv('../data/results_human_query.csv')\n",
    "    df_human = pd.merge(left = df_human_ch_tt, left_on = 'cell',\n",
    "                right = df_hum_ephys, right_on = 'name', how = 'inner')\n",
    "\n",
    "    # Mouse \n",
    "    m_ttypes_path = '//allen/programs/celltypes/workgroups/rnaseqanalysis/shiny/patch_seq/star/mouse/mouse_patchseq_WB_current/mapping.df.lastmap.csv'\n",
    "    df_mouse_ttypes = pd.read_csv(m_ttypes_path)\n",
    "    df_mouse_ch_tt = pd.merge(left = df_m, left_on = 'cell',\n",
    "                        right = df_mouse_ttypes, right_on='cell_name', how='inner')\n",
    "\n",
    "    # Merge with ephys data (query from LIMS)\n",
    "    df_mouse_ephys = pd.read_csv('../data/results_mouse_query.csv')\n",
    "    df_mouse = pd.merge(left = df_mouse_ch_tt, left_on = 'cell',\n",
    "                right = df_mouse_ephys, right_on = 'name', how = 'inner')\n",
    "    # New col for class\n",
    "    df_mouse['class'] = df_mouse['best.class_label'].apply(\n",
    "        lambda x: 'Glutamatergic' if 'Glut' in x else ('GABAergic' if 'GABA' in x else 'Unknown'))\n",
    "\n",
    "    # Create excel file from dataframes - for remote use.\n",
    "    df_mouse.to_excel(f'../data/mouse_tt_ch_ephys.xlsx', index=False)\n",
    "    df_human.to_excel(f'../data/human_tt_ch_ephys.xlsx', index=False)\n",
    "    print('Data loaded and saved to local files.')\n",
    "    \n",
    "except:\n",
    "    print('Data directory not available. Loading from local files.')\n",
    "    df_mouse = pd.read_excel('../data/mouse_tt_ch_ephys.xlsx')\n",
    "    df_human = pd.read_excel('../data/human_tt_ch_ephys.xlsx')"
   ]
  },
  {
   "cell_type": "code",
   "execution_count": null,
   "metadata": {},
   "outputs": [],
   "source": [
    "df_mouse['best.class_label'].unique()"
   ]
  },
  {
   "cell_type": "markdown",
   "metadata": {},
   "source": [
    "## Number of cells in channel data densities file"
   ]
  },
  {
   "cell_type": "code",
   "execution_count": null,
   "metadata": {},
   "outputs": [],
   "source": [
    "fig, ax = plt.subplots(1,2,figsize=(10,4))\n",
    "ax[0].bar(['Mouse','Human','NHP'],[df_m.shape[0], df_H.shape[0], df_QN.shape[0]], color = 'teal', alpha=0.6)\n",
    "ax[0].set_ylabel('Number of cells')\n",
    "ax[0].set_xlabel('Species')\n",
    "ax[0].set_title('Number of cells with channel recording')\n",
    "\n",
    "ax[1].bar(['Mouse', 'Human'], [df_mouse.shape[0],df_human.shape[0]], color = 'teal', alpha=0.6)\n",
    "ax[1].set_ylabel('Number of cells')\n",
    "ax[1].set_xlabel('Species')\n",
    "ax[1].set_title('Number of cells with channel rec, ttype and ephys')"
   ]
  },
  {
   "cell_type": "markdown",
   "metadata": {},
   "source": [
    "Parameters mouse:\n",
    "['cell', 'tot_-50', 'tot_-35', 'tot_-20', 'tot_-5', 'tot_10', 'tot_25',\n",
    "       'tot_40', 'tot_55', 'tot_70_x', 'tot_85', 'tot_-70', 'tot_-55',\n",
    "       'tot_-40', 'tot_-25', 'tot_-10', 'tot_5', 'tot_20', 'tot_35', 'tot_50',\n",
    "       'fast_-50', 'fast_-35', 'fast_-20', 'fast_-5', 'fast_10', 'fast_25',\n",
    "       'fast_40', 'fast_55', 'fast_70_x', 'fast_85', 'fast_-70', 'fast_-55',\n",
    "       'fast_-40', 'fast_-25', 'fast_-10', 'fast_5', 'fast_20', 'fast_35',\n",
    "       'fast_50', 'slow_-50', 'slow_-35', 'slow_-20', 'slow_-5', 'slow_10',\n",
    "       'slow_25', 'slow_40', 'slow_55', 'slow_70', 'slow_85', 'sus_-50',\n",
    "       'sus_-35', 'sus_-20', 'sus_-5', 'sus_10', 'sus_25', 'sus_30', 'sus_40',\n",
    "       'sus_55', 'sus_70', 'sus_85', 'sus_0', 'sus_15', 'sus_30.1', 'sus_45',\n",
    "       'sus_60', 'sus_75', 'sus_90', 'sus_105', 'sus_120', 'nonfast_-50',\n",
    "       'nonfast_-35', 'nonfast_-20', 'nonfast_-5', 'nonfast_10', 'nonfast_25',\n",
    "       'nonfast_40', 'nonfast_55', 'nonfast_70_x', 'nonfast_85', 'nonfast_-70',\n",
    "       'nonfast_-55', 'nonfast_-40', 'nonfast_-25', 'nonfast_-10', 'nonfast_5',\n",
    "       'nonfast_20', 'nonfast_35', 'nonfast_50', 'nonfast_-120',\n",
    "       'nonfast_-105', 'nonfast_-90', 'nonfast_-75', 'nonfast_-60',\n",
    "       'nonfast_-45', 'nonfast_-30', 'nonfast_-15', 'nonfast_0', 'tot_70_y',\n",
    "       'fast_70_y', 'fast_total', 'nonfast_70_y', 'nonfast_total', 'jem-date_patch', 'jem-id_species',\n",
    "       'jem-id_patched_cell_container', 'jem-id_rig_user', 'jem-roi_super',\n",
    "       'jem-roi_major', 'jem-roi_minor', 'cell_id',\n",
    "       'rna_amplification_pass_fail', 'Genes.Detected.CPM', 'avg.cor', 'ttype',\n",
    "       'supertype', 'subclass', 'ephys_qc', 'failed_bad_rs',\n",
    "       'failed_electrode_0', 'tau', 'avg_isi',\n",
    "       'upstroke_downstroke_ratio_short_square', 'threshold_v_ramp',\n",
    "       'peak_v_short_square', 'upstroke_downstroke_ratio_ramp', 'sag',\n",
    "       'trough_t_ramp', 'slow_trough_v_ramp', 'vrest', 'has_pause',\n",
    "       'trough_v_long_square', 'input_resistance_mohm',\n",
    "       'trough_t_short_square', 'fast_trough_v_ramp', 'trough_t_long_square',\n",
    "       'threshold_v_long_square', 'slow_trough_v_long_square', 'peak_t_ramp',\n",
    "       'threshold_t_short_square', 'slow_trough_t_long_square',\n",
    "       'input_access_resistance_ratio', 'fast_trough_t_long_square', 'ri',\n",
    "       'threshold_t_long_square', 'threshold_v_short_square',\n",
    "       'threshold_t_ramp', 'vm_for_sag', 'threshold_i_long_square',\n",
    "       'threshold_i_short_square', 'slow_trough_t_ramp', 'peak_v_ramp',\n",
    "       'fast_trough_v_short_square', 'fast_trough_t_short_square',\n",
    "       'fast_trough_t_ramp', 'initial_access_resistance_mohm',\n",
    "       'slow_trough_t_short_square', 'threshold_i_ramp',\n",
    "       'slow_trough_v_short_square', 'peak_t_short_square',\n",
    "       'trough_v_short_square', 'f_i_curve_slope', 'created_at',\n",
    "       'peak_t_long_square', 'seal_gohm', 'trough_v_ramp', 'latency',\n",
    "       'fast_trough_v_long_square', 'upstroke_downstroke_ratio_long_square',\n",
    "       'Unnamed: 72', 'peak_v_long_square', 'adaptation'],"
   ]
  },
  {
   "cell_type": "markdown",
   "metadata": {},
   "source": [
    "Parameters human:\n",
    "['cell', 'tot_-50', 'tot_-35', 'tot_-20', 'tot_-5', 'tot_10', 'tot_25',\n",
    "       'tot_40', 'tot_55', 'tot_70', 'tot_85', 'tot_-70', 'tot_-55', 'tot_-40',\n",
    "       'tot_-25', 'tot_-10', 'tot_5', 'tot_20', 'tot_35', 'tot_50', 'fast_-50',\n",
    "       'fast_-35', 'fast_-20', 'fast_-5', 'fast_10', 'fast_25', 'fast_40',\n",
    "       'fast_55', 'fast_70', 'fast_85', 'fast_-70', 'fast_-55', 'fast_-40',\n",
    "       'fast_-25', 'fast_-10', 'fast_5', 'fast_20', 'fast_35', 'fast_50',\n",
    "       'slow_-50', 'slow_-35', 'slow_-20', 'slow_-5', 'slow_10', 'slow_25',\n",
    "       'slow_40', 'slow_55', 'slow_70', 'slow_85', 'sus_-50', 'sus_-35',\n",
    "       'sus_-20', 'sus_-5', 'sus_10', 'sus_25', 'sus_30', 'sus_40', 'sus_55',\n",
    "       'sus_70', 'sus_85', 'sus_0', 'sus_15', 'sus_30.1', 'sus_45', 'sus_60',\n",
    "       'sus_75', 'sus_90', 'sus_105', 'sus_120', 'nonfast_-50', 'nonfast_-35',\n",
    "       'nonfast_-20', 'nonfast_-5', 'nonfast_10', 'nonfast_25', 'nonfast_40',\n",
    "       'nonfast_55', 'nonfast_70', 'nonfast_85', 'nonfast_-70', 'nonfast_-55',\n",
    "       'nonfast_-40', 'nonfast_-25', 'nonfast_-10', 'nonfast_5', 'nonfast_20',\n",
    "       'nonfast_35', 'nonfast_50', 'nonfast_-120', 'nonfast_-105',\n",
    "       'nonfast_-90', 'nonfast_-75', 'nonfast_-60', 'nonfast_-45',\n",
    "       'nonfast_-30', 'nonfast_-15', 'nonfast_0', 'seq-name', 'cell_id',\n",
    "       'patched_cell_container_label', 'cell_name_label', 'batch_vendor_name_label',\n",
    "       'SEAAD_class_label.assignment',\n",
    "       'SEAAD_class_label.bootstrapping_probability',\n",
    "       'SEAAD_class_label.avg_correlation', 'SEAAD_subclass_label.assignment',\n",
    "       'SEAAD_subclass_label.bootstrapping_probability',\n",
    "       'SEAAD_subclass_label.avg_correlation',\n",
    "       'SEAAD_cluster_label.assignment',\n",
    "       'SEAAD_cluster_label.bootstrapping_probability',\n",
    "       'SEAAD_cluster_label.avg_correlation', 'SEAAD_score.Corr',\n",
    "       'SEAAD_cluster_Corr', 'SEAAD_subclass_Corr', 'SEAAD_class_Corr',\n",
    "       'rna_amplification_pass_fail', 'library_prep_pass_fail',\n",
    "       'percent_reads_aligned_to_exons', 'percent_reads_aligned_to_mt_exons',\n",
    "       'percent_reads_aligned_to_introns',\n",
    "       'percent_reads_aligned_to_intergenic', 'percent_reads_aligned_unique',\n",
    "       'percent_reads_aligned_to_ecoli',\n",
    "       'percent_reads_aligned_to_synthetic_constructs',\n",
    "       'percent_reads_aligned_total', 'complexity_aatt', 'complexity_acgt',\n",
    "       'complexity_agct', 'complexity_at', 'complexity_catg',\n",
    "       'complexity_ccgg', 'complexity_cg', 'complexity_gatc', 'complexity_gc',\n",
    "       'complexity_ta', 'fpkm_published', 'fpkm_dir', 'fpkm_filename',\n",
    "       'Genes.Detected', 'Exclude.STAR', 'TreeMatch_1', 'TreeProb_1',\n",
    "       'TreeMatch_2', 'TreeProb_2', 'TreeMatch_3', 'TreeProb_3', 'score.Corr',\n",
    "       'score.Tree', 'cluster_Corr', 'subclass_Corr', 'class_Corr', 'cluster_Tree', 'subclass_Tree', 'class_Tree', 'cluster',\n",
    "       'cluster_score', 'res.index', 'quality_score', 'marker_sum_norm',\n",
    "       'Norm_Marker_Sum.0.4', 'contaminationType', 'contam_sum', 'Tree_call',\n",
    "       'Tree_first_cor', 'Tree_first_bt', 'Tree_second_bt', 'Tree_first_KL',\n",
    "       'Tree_second_KL', 'seuratQCpass', 'UMAP_x', 'UMAP_y',\n",
    "       'class_MapMyCells', 'class_MapMyCells_softmax_probability',\n",
    "       'subclass_MapMyCells', 'subclass_MapMyCells_softmax_probability',\n",
    "       'supertype_MapMyCells', 'supertype_MapMyCells_softmax_probability'"
   ]
  },
  {
   "cell_type": "code",
   "execution_count": null,
   "metadata": {},
   "outputs": [],
   "source": [
    "classification_m = 'subclass' # 'ttype','supertype', 'subclass'\n",
    "classification_h = 'tree_subclass' # 'tree_cluster', 'tree_subclass', 'tree_class'\n",
    "\n",
    "fig, ax = plt.subplots(1,2,figsize=(10,7), gridspec_kw={'wspace': 0.35},\n",
    "                      width_ratios= [2,0.8] )\n",
    "for i, species, classification, df_species in zip([0,1],['Mouse', 'Human'],\n",
    "                                            [classification_m, classification_h],\n",
    "                                            [df_mouse, df_human]):\n",
    "    \n",
    "    ax[i].barh(df_species[classification].value_counts().index,\n",
    "               df_species[classification].value_counts(), color = 'teal',\n",
    "               alpha=0.6)\n",
    "    ax[i].tick_params(axis='both', labelsize=8)\n",
    "    ax[i].set_xlabel('Number of cells')\n",
    "    ax[i].set_ylabel(f'{classification}')\n",
    "    ax[i].set_title(f'{species} cells with channel recording')"
   ]
  },
  {
   "cell_type": "markdown",
   "metadata": {},
   "source": [
    "### Samples for the dashboard"
   ]
  },
  {
   "cell_type": "markdown",
   "metadata": {},
   "source": [
    "#### Scatterplots of columns"
   ]
  },
  {
   "cell_type": "code",
   "execution_count": null,
   "metadata": {},
   "outputs": [],
   "source": [
    "plt.scatter(df_mouse['tot_70'], df_mouse['upstroke_downstroke_ratio_ramp'], color = 'teal', alpha=0.6)"
   ]
  },
  {
   "cell_type": "code",
   "execution_count": null,
   "metadata": {},
   "outputs": [],
   "source": [
    "plt.scatter(df_human['tot_70'], df_human['upstroke_downstroke_ratio_ramp'], color = 'teal', alpha=0.6)"
   ]
  }
 ],
 "metadata": {
  "kernelspec": {
   "display_name": "IVSCC",
   "language": "python",
   "name": "python3"
  },
  "language_info": {
   "codemirror_mode": {
    "name": "ipython",
    "version": 3
   },
   "file_extension": ".py",
   "mimetype": "text/x-python",
   "name": "python",
   "nbconvert_exporter": "python",
   "pygments_lexer": "ipython3",
   "version": "3.9.19"
  }
 },
 "nbformat": 4,
 "nbformat_minor": 2
}
